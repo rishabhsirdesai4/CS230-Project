{
 "cells": [
  {
   "cell_type": "code",
   "execution_count": 1,
   "metadata": {},
   "outputs": [],
   "source": [
    "import os\n",
    "import pandas as pd\n",
    "import csv\n",
    "import numpy as np\n",
    "import matplotlib.pyplot as plt\n",
    "from PIL import Image\n",
    "import PIL\n",
    "import h5py\n",
    "import math\n",
    "import scipy\n",
    "from scipy import ndimage\n",
    "from tensorflow.python.framework import ops\n",
    "from numpy import zeros, newaxis\n"
   ]
  },
  {
   "cell_type": "code",
   "execution_count": 2,
   "metadata": {},
   "outputs": [
    {
     "name": "stdout",
     "output_type": "stream",
     "text": [
      "TensorFlow version: 1.13.1\n"
     ]
    }
   ],
   "source": [
    "import tensorflow as tf\n",
    "print (\"TensorFlow version: \" + tf.__version__)"
   ]
  },
  {
   "cell_type": "code",
   "execution_count": 3,
   "metadata": {},
   "outputs": [
    {
     "data": {
      "text/plain": [
       "['valid', 'valid.csv', '.DS_Store', 'train', 'train.csv']"
      ]
     },
     "execution_count": 3,
     "metadata": {},
     "output_type": "execute_result"
    }
   ],
   "source": [
    "home = os.path.expanduser(\"~\")\n",
    "dataRoot = os.path.join(home, \"CS230\", \"CheXpert-v1.0-small\")\n",
    "os.listdir(dataRoot)"
   ]
  },
  {
   "cell_type": "code",
   "execution_count": 4,
   "metadata": {},
   "outputs": [
    {
     "name": "stdout",
     "output_type": "stream",
     "text": [
      "Index([u'Path', u'Sex', u'Age', u'Frontal/Lateral', u'AP/PA', u'No Finding',\n",
      "       u'Enlarged Cardiomediastinum', u'Cardiomegaly', u'Lung Opacity',\n",
      "       u'Lung Lesion', u'Edema', u'Consolidation', u'Pneumonia',\n",
      "       u'Atelectasis', u'Pneumothorax', u'Pleural Effusion', u'Pleural Other',\n",
      "       u'Fracture', u'Support Devices'],\n",
      "      dtype='object')\n"
     ]
    }
   ],
   "source": [
    "# Train dataframe preprocessing\n",
    "train_df = pd.read_csv(os.path.join(dataRoot, \"train.csv\"), encoding = \"ISO-8859-1\")\n",
    "print(train_df.columns)"
   ]
  },
  {
   "cell_type": "code",
   "execution_count": 5,
   "metadata": {},
   "outputs": [],
   "source": [
    "# Filtering for Frontal imaging\n",
    "sub_train = train_df[train_df[\"Frontal/Lateral\"] == \"Frontal\"]\n",
    "# Drop AP/PA\n",
    "sub_train = sub_train.drop([\"AP/PA\"], axis = 1)\n",
    "# Convert Unmenttioned to Negatives  i.e. Nah to 0\n",
    "sub_train = sub_train.fillna(0)\n",
    "# Convert Uncertain to Positive i.e. -1 to 1\n",
    "sub_train = sub_train.replace(-1, 1)\n",
    "\n"
   ]
  },
  {
   "cell_type": "code",
   "execution_count": 6,
   "metadata": {},
   "outputs": [
    {
     "name": "stdout",
     "output_type": "stream",
     "text": [
      "('the shape of the Y_train set before transpose is:', (191027, 14))\n",
      "('The shape of the Y_train set after transpose and reduction is:', (191, 14))\n",
      "('The number of training examples is:', 14)\n"
     ]
    }
   ],
   "source": [
    "# Pull cols to form y_train\n",
    "cols_train = [\"No Finding\",\"Enlarged Cardiomediastinum\",\"Cardiomegaly\",\"Lung Opacity\",\"Lung Lesion\",\"Edema\",\"Consolidation\",\"Pneumonia\",\"Atelectasis\",\"Pneumothorax\",\"Pleural Effusion\",\"Pleural Other\",\"Fracture\",\"Support Devices\"] #...\n",
    "Y_train = sub_train[cols_train]\n",
    "print(\"the shape of the Y_train set before transpose is:\",Y_train.shape)\n",
    "#Y_train = np.transpose(Y_train)\n",
    "# Using 1/10th of the data for basline model\n",
    "Y_train = Y_train[:sub_train.shape[0]/1000]\n",
    "#Y_train = np.transpose(Y_train)\n",
    "#print(y_train)\n",
    "print(\"The shape of the Y_train set after transpose and reduction is:\", Y_train.shape)\n",
    "print(\"The number of training examples is:\",Y_train.shape[1])\n",
    "\n"
   ]
  },
  {
   "cell_type": "code",
   "execution_count": 7,
   "metadata": {},
   "outputs": [
    {
     "name": "stdout",
     "output_type": "stream",
     "text": [
      "191027\n"
     ]
    }
   ],
   "source": [
    "print(sub_train.shape[0])"
   ]
  },
  {
   "cell_type": "code",
   "execution_count": 8,
   "metadata": {},
   "outputs": [],
   "source": [
    "# # Forming x_train\n",
    "\n",
    "# from glob import glob\n",
    "# from os.path import join\n",
    "# image_path_list = []\n",
    "# for patient_folder in glob(join(\"/Users/rishabhsirdesai/CS230/CheXpert-v1.0-small/train/\", \"*\")):\n",
    "#     #print(patient_folder)\n",
    "#     for study in glob(join(patient_folder, \"study*\")):\n",
    "#         #print(study)\n",
    "#         #break\n",
    "#         for image in glob(join(study, \"*frontal.jpg\")):\n",
    "#             image_path_list.append(image)\n",
    "#             #break\n",
    "    \n",
    "       \n",
    "# print(len(image_path_list))\n",
    "    \n",
    "\n",
    "\n"
   ]
  },
  {
   "cell_type": "code",
   "execution_count": 9,
   "metadata": {},
   "outputs": [
    {
     "name": "stderr",
     "output_type": "stream",
     "text": [
      "100%|██████████| 191/191 [00:01<00:00, 146.51it/s]\n"
     ]
    }
   ],
   "source": [
    "from tqdm import tqdm #to track progress\n",
    "\n",
    "\n",
    "# importing images from the path mentioned in the.csv file and converting them into numpy arrays\n",
    "def load_data(img_rows = 224,img_cols = 224): \n",
    "    X_train = []   \n",
    "     \n",
    "    for image in tqdm(sub_train[\"Path\"][:sub_train.shape[0]/1000]):   \n",
    "        \n",
    "        img = Image.open(\"/Users/rishabhsirdesai/CS230/\" + image)         \n",
    "        img.load()         \n",
    "        img = img.resize((img_rows, img_cols), PIL.Image.ANTIALIAS)         \n",
    "        data = np.asarray(img, dtype=\"float64\")         \n",
    "        X_train.append(data)         \n",
    "    \n",
    "    return np.array(X_train)\n",
    "    \n",
    "X_train = load_data()"
   ]
  },
  {
   "cell_type": "code",
   "execution_count": 10,
   "metadata": {},
   "outputs": [
    {
     "name": "stdout",
     "output_type": "stream",
     "text": [
      "191\n"
     ]
    }
   ],
   "source": [
    "print(len(X_train)) #verifying the match between y_train and x_train"
   ]
  },
  {
   "cell_type": "code",
   "execution_count": 11,
   "metadata": {},
   "outputs": [
    {
     "name": "stdout",
     "output_type": "stream",
     "text": [
      "(191, 224, 224)\n"
     ]
    }
   ],
   "source": [
    "print(X_train.shape)"
   ]
  },
  {
   "cell_type": "code",
   "execution_count": 12,
   "metadata": {},
   "outputs": [],
   "source": [
    "#converint each image in X to a consolidated tensor\n",
    "tensor_X_train = [tf.convert_to_tensor(image_data, np.float32) for image_data in X_train]"
   ]
  },
  {
   "cell_type": "code",
   "execution_count": 13,
   "metadata": {},
   "outputs": [
    {
     "name": "stdout",
     "output_type": "stream",
     "text": [
      "Tensor(\"Const:0\", shape=(224, 224), dtype=float32)\n"
     ]
    }
   ],
   "source": [
    "for image_tensor in tensor_X_train:\n",
    "    print(image_tensor)\n",
    "    break"
   ]
  },
  {
   "cell_type": "code",
   "execution_count": 14,
   "metadata": {},
   "outputs": [
    {
     "data": {
      "text/plain": [
       "191"
      ]
     },
     "execution_count": 14,
     "metadata": {},
     "output_type": "execute_result"
    }
   ],
   "source": [
    "len(tensor_X_train)"
   ]
  },
  {
   "cell_type": "code",
   "execution_count": 15,
   "metadata": {
    "scrolled": true
   },
   "outputs": [
    {
     "data": {
      "text/html": [
       "<div>\n",
       "<style scoped>\n",
       "    .dataframe tbody tr th:only-of-type {\n",
       "        vertical-align: middle;\n",
       "    }\n",
       "\n",
       "    .dataframe tbody tr th {\n",
       "        vertical-align: top;\n",
       "    }\n",
       "\n",
       "    .dataframe thead th {\n",
       "        text-align: right;\n",
       "    }\n",
       "</style>\n",
       "<table border=\"1\" class=\"dataframe\">\n",
       "  <thead>\n",
       "    <tr style=\"text-align: right;\">\n",
       "      <th></th>\n",
       "      <th>Path</th>\n",
       "      <th>Sex</th>\n",
       "      <th>Age</th>\n",
       "      <th>Frontal/Lateral</th>\n",
       "      <th>No Finding</th>\n",
       "      <th>Enlarged Cardiomediastinum</th>\n",
       "      <th>Cardiomegaly</th>\n",
       "      <th>Lung Opacity</th>\n",
       "      <th>Lung Lesion</th>\n",
       "      <th>Edema</th>\n",
       "      <th>Consolidation</th>\n",
       "      <th>Pneumonia</th>\n",
       "      <th>Atelectasis</th>\n",
       "      <th>Pneumothorax</th>\n",
       "      <th>Pleural Effusion</th>\n",
       "      <th>Pleural Other</th>\n",
       "      <th>Fracture</th>\n",
       "      <th>Support Devices</th>\n",
       "    </tr>\n",
       "  </thead>\n",
       "  <tbody>\n",
       "    <tr>\n",
       "      <th>0</th>\n",
       "      <td>CheXpert-v1.0-small/train/patient00001/study1/...</td>\n",
       "      <td>Female</td>\n",
       "      <td>68</td>\n",
       "      <td>Frontal</td>\n",
       "      <td>1.0</td>\n",
       "      <td>0.0</td>\n",
       "      <td>0.0</td>\n",
       "      <td>0.0</td>\n",
       "      <td>0.0</td>\n",
       "      <td>0.0</td>\n",
       "      <td>0.0</td>\n",
       "      <td>0.0</td>\n",
       "      <td>0.0</td>\n",
       "      <td>0.0</td>\n",
       "      <td>0.0</td>\n",
       "      <td>0.0</td>\n",
       "      <td>0.0</td>\n",
       "      <td>1.0</td>\n",
       "    </tr>\n",
       "    <tr>\n",
       "      <th>1</th>\n",
       "      <td>CheXpert-v1.0-small/train/patient00002/study2/...</td>\n",
       "      <td>Female</td>\n",
       "      <td>87</td>\n",
       "      <td>Frontal</td>\n",
       "      <td>0.0</td>\n",
       "      <td>0.0</td>\n",
       "      <td>1.0</td>\n",
       "      <td>1.0</td>\n",
       "      <td>0.0</td>\n",
       "      <td>1.0</td>\n",
       "      <td>1.0</td>\n",
       "      <td>0.0</td>\n",
       "      <td>1.0</td>\n",
       "      <td>0.0</td>\n",
       "      <td>1.0</td>\n",
       "      <td>0.0</td>\n",
       "      <td>1.0</td>\n",
       "      <td>0.0</td>\n",
       "    </tr>\n",
       "    <tr>\n",
       "      <th>2</th>\n",
       "      <td>CheXpert-v1.0-small/train/patient00002/study1/...</td>\n",
       "      <td>Female</td>\n",
       "      <td>83</td>\n",
       "      <td>Frontal</td>\n",
       "      <td>0.0</td>\n",
       "      <td>0.0</td>\n",
       "      <td>0.0</td>\n",
       "      <td>1.0</td>\n",
       "      <td>0.0</td>\n",
       "      <td>0.0</td>\n",
       "      <td>1.0</td>\n",
       "      <td>0.0</td>\n",
       "      <td>0.0</td>\n",
       "      <td>0.0</td>\n",
       "      <td>0.0</td>\n",
       "      <td>0.0</td>\n",
       "      <td>1.0</td>\n",
       "      <td>0.0</td>\n",
       "    </tr>\n",
       "    <tr>\n",
       "      <th>4</th>\n",
       "      <td>CheXpert-v1.0-small/train/patient00003/study1/...</td>\n",
       "      <td>Male</td>\n",
       "      <td>41</td>\n",
       "      <td>Frontal</td>\n",
       "      <td>0.0</td>\n",
       "      <td>0.0</td>\n",
       "      <td>0.0</td>\n",
       "      <td>0.0</td>\n",
       "      <td>0.0</td>\n",
       "      <td>1.0</td>\n",
       "      <td>0.0</td>\n",
       "      <td>0.0</td>\n",
       "      <td>0.0</td>\n",
       "      <td>0.0</td>\n",
       "      <td>0.0</td>\n",
       "      <td>0.0</td>\n",
       "      <td>0.0</td>\n",
       "      <td>0.0</td>\n",
       "    </tr>\n",
       "    <tr>\n",
       "      <th>5</th>\n",
       "      <td>CheXpert-v1.0-small/train/patient00004/study1/...</td>\n",
       "      <td>Female</td>\n",
       "      <td>20</td>\n",
       "      <td>Frontal</td>\n",
       "      <td>1.0</td>\n",
       "      <td>0.0</td>\n",
       "      <td>0.0</td>\n",
       "      <td>0.0</td>\n",
       "      <td>0.0</td>\n",
       "      <td>0.0</td>\n",
       "      <td>0.0</td>\n",
       "      <td>0.0</td>\n",
       "      <td>0.0</td>\n",
       "      <td>0.0</td>\n",
       "      <td>0.0</td>\n",
       "      <td>0.0</td>\n",
       "      <td>0.0</td>\n",
       "      <td>0.0</td>\n",
       "    </tr>\n",
       "  </tbody>\n",
       "</table>\n",
       "</div>"
      ],
      "text/plain": [
       "                                                Path     Sex  Age  \\\n",
       "0  CheXpert-v1.0-small/train/patient00001/study1/...  Female   68   \n",
       "1  CheXpert-v1.0-small/train/patient00002/study2/...  Female   87   \n",
       "2  CheXpert-v1.0-small/train/patient00002/study1/...  Female   83   \n",
       "4  CheXpert-v1.0-small/train/patient00003/study1/...    Male   41   \n",
       "5  CheXpert-v1.0-small/train/patient00004/study1/...  Female   20   \n",
       "\n",
       "  Frontal/Lateral  No Finding  Enlarged Cardiomediastinum  Cardiomegaly  \\\n",
       "0         Frontal         1.0                         0.0           0.0   \n",
       "1         Frontal         0.0                         0.0           1.0   \n",
       "2         Frontal         0.0                         0.0           0.0   \n",
       "4         Frontal         0.0                         0.0           0.0   \n",
       "5         Frontal         1.0                         0.0           0.0   \n",
       "\n",
       "   Lung Opacity  Lung Lesion  Edema  Consolidation  Pneumonia  Atelectasis  \\\n",
       "0           0.0          0.0    0.0            0.0        0.0          0.0   \n",
       "1           1.0          0.0    1.0            1.0        0.0          1.0   \n",
       "2           1.0          0.0    0.0            1.0        0.0          0.0   \n",
       "4           0.0          0.0    1.0            0.0        0.0          0.0   \n",
       "5           0.0          0.0    0.0            0.0        0.0          0.0   \n",
       "\n",
       "   Pneumothorax  Pleural Effusion  Pleural Other  Fracture  Support Devices  \n",
       "0           0.0               0.0            0.0       0.0              1.0  \n",
       "1           0.0               1.0            0.0       1.0              0.0  \n",
       "2           0.0               0.0            0.0       1.0              0.0  \n",
       "4           0.0               0.0            0.0       0.0              0.0  \n",
       "5           0.0               0.0            0.0       0.0              0.0  "
      ]
     },
     "execution_count": 15,
     "metadata": {},
     "output_type": "execute_result"
    }
   ],
   "source": [
    "sub_train.head()"
   ]
  },
  {
   "cell_type": "code",
   "execution_count": 16,
   "metadata": {},
   "outputs": [
    {
     "name": "stdout",
     "output_type": "stream",
     "text": [
      "Index([u'Path', u'Sex', u'Age', u'Frontal/Lateral', u'AP/PA', u'No Finding',\n",
      "       u'Enlarged Cardiomediastinum', u'Cardiomegaly', u'Lung Opacity',\n",
      "       u'Lung Lesion', u'Edema', u'Consolidation', u'Pneumonia',\n",
      "       u'Atelectasis', u'Pneumothorax', u'Pleural Effusion', u'Pleural Other',\n",
      "       u'Fracture', u'Support Devices'],\n",
      "      dtype='object')\n"
     ]
    }
   ],
   "source": [
    "# Valid data preprocessing\n",
    "\n",
    "valid_df = pd.read_csv(os.path.join(dataRoot, \"valid.csv\"), encoding = \"ISO-8859-1\")\n",
    "print(valid_df.columns)\n"
   ]
  },
  {
   "cell_type": "code",
   "execution_count": 17,
   "metadata": {},
   "outputs": [],
   "source": [
    "# Filtering for Frontal imaging\n",
    "sub_valid = valid_df[valid_df[\"Frontal/Lateral\"] == \"Frontal\"]\n",
    "# Drop AP/PA\n",
    "sub_valid = sub_valid.drop([\"AP/PA\"], axis = 1)\n",
    "# Convert Unmenttioned to Negatives  i.e. Nah to 0\n",
    "sub_valid = sub_valid.fillna(0)\n",
    "# Convert Uncertain to Positive i.e. -1 to 1\n",
    "sub_valid = sub_valid.replace(-1, 1)"
   ]
  },
  {
   "cell_type": "code",
   "execution_count": 18,
   "metadata": {},
   "outputs": [
    {
     "name": "stdout",
     "output_type": "stream",
     "text": [
      "('the shape of the y_valid set before transpose is:', (202, 14))\n",
      "('The shape of the Y_valid set is:', (202, 14))\n",
      "('The number of valid examples is:', 14)\n"
     ]
    }
   ],
   "source": [
    "# Pull cols to form y_valid\n",
    "cols_valid = [\"No Finding\",\"Enlarged Cardiomediastinum\",\"Cardiomegaly\",\"Lung Opacity\",\"Lung Lesion\",\"Edema\",\"Consolidation\",\"Pneumonia\",\"Atelectasis\",\"Pneumothorax\",\"Pleural Effusion\",\"Pleural Other\",\"Fracture\",\"Support Devices\"] #...\n",
    "Y_test = sub_valid[cols_valid]\n",
    "print(\"the shape of the y_valid set before transpose is:\",\n",
    "      Y_test.shape)\n",
    "#Y_test = np.transpose(Y_test)\n",
    "# Using 1/10th of the data for basline model\n",
    "Y_test = Y_test[:sub_valid.shape[0]]\n",
    "#print(y_train)\n",
    "print(\"The shape of the Y_valid set is:\", Y_test.shape)\n",
    "print(\"The number of valid examples is:\",Y_test.shape[1])"
   ]
  },
  {
   "cell_type": "code",
   "execution_count": 19,
   "metadata": {},
   "outputs": [
    {
     "name": "stderr",
     "output_type": "stream",
     "text": [
      "100%|██████████| 202/202 [00:01<00:00, 143.89it/s]\n"
     ]
    }
   ],
   "source": [
    "from tqdm import tqdm #to track progress\n",
    "\n",
    "\n",
    "# importing images from the path mentioned in the.csv file and converting them into numpy arrays\n",
    "def load_data_valid(img_rows = 224,img_cols = 224): \n",
    "    X_test = []   \n",
    "     \n",
    "    for image_valid in tqdm(sub_valid[\"Path\"][:sub_valid.shape[0]]):   \n",
    "        \n",
    "        img_valid = Image.open(\"/Users/rishabhsirdesai/CS230/\" + image_valid)         \n",
    "        img_valid.load()         \n",
    "        img_valid = img_valid.resize((img_rows, img_cols), PIL.Image.ANTIALIAS)         \n",
    "        data_valid = np.asarray(img_valid, dtype=\"float64\")         \n",
    "        X_test.append(data_valid)         \n",
    "    \n",
    "    return np.array(X_test)\n",
    "    \n",
    "X_test = load_data_valid()\n"
   ]
  },
  {
   "cell_type": "code",
   "execution_count": 20,
   "metadata": {
    "scrolled": true
   },
   "outputs": [
    {
     "name": "stdout",
     "output_type": "stream",
     "text": [
      "202\n"
     ]
    }
   ],
   "source": [
    "print(len(X_test))"
   ]
  },
  {
   "cell_type": "code",
   "execution_count": 21,
   "metadata": {},
   "outputs": [
    {
     "name": "stdout",
     "output_type": "stream",
     "text": [
      "(202, 224, 224)\n"
     ]
    }
   ],
   "source": [
    "print(X_test.shape)"
   ]
  },
  {
   "cell_type": "code",
   "execution_count": 22,
   "metadata": {},
   "outputs": [],
   "source": [
    "#converint each image in X to a consolidated tensor\n",
    "tensor_X_test = [tf.convert_to_tensor(image_data, np.float32) for image_data in X_test]"
   ]
  },
  {
   "cell_type": "code",
   "execution_count": 23,
   "metadata": {},
   "outputs": [
    {
     "name": "stdout",
     "output_type": "stream",
     "text": [
      "202\n"
     ]
    }
   ],
   "source": [
    "print(len(tensor_X_test))"
   ]
  },
  {
   "cell_type": "code",
   "execution_count": 24,
   "metadata": {},
   "outputs": [
    {
     "data": {
      "text/html": [
       "<div>\n",
       "<style scoped>\n",
       "    .dataframe tbody tr th:only-of-type {\n",
       "        vertical-align: middle;\n",
       "    }\n",
       "\n",
       "    .dataframe tbody tr th {\n",
       "        vertical-align: top;\n",
       "    }\n",
       "\n",
       "    .dataframe thead th {\n",
       "        text-align: right;\n",
       "    }\n",
       "</style>\n",
       "<table border=\"1\" class=\"dataframe\">\n",
       "  <thead>\n",
       "    <tr style=\"text-align: right;\">\n",
       "      <th></th>\n",
       "      <th>Path</th>\n",
       "      <th>Sex</th>\n",
       "      <th>Age</th>\n",
       "      <th>Frontal/Lateral</th>\n",
       "      <th>No Finding</th>\n",
       "      <th>Enlarged Cardiomediastinum</th>\n",
       "      <th>Cardiomegaly</th>\n",
       "      <th>Lung Opacity</th>\n",
       "      <th>Lung Lesion</th>\n",
       "      <th>Edema</th>\n",
       "      <th>Consolidation</th>\n",
       "      <th>Pneumonia</th>\n",
       "      <th>Atelectasis</th>\n",
       "      <th>Pneumothorax</th>\n",
       "      <th>Pleural Effusion</th>\n",
       "      <th>Pleural Other</th>\n",
       "      <th>Fracture</th>\n",
       "      <th>Support Devices</th>\n",
       "    </tr>\n",
       "  </thead>\n",
       "  <tbody>\n",
       "    <tr>\n",
       "      <th>0</th>\n",
       "      <td>CheXpert-v1.0-small/valid/patient64541/study1/...</td>\n",
       "      <td>Male</td>\n",
       "      <td>73</td>\n",
       "      <td>Frontal</td>\n",
       "      <td>0.0</td>\n",
       "      <td>1.0</td>\n",
       "      <td>1.0</td>\n",
       "      <td>1.0</td>\n",
       "      <td>0.0</td>\n",
       "      <td>0.0</td>\n",
       "      <td>0.0</td>\n",
       "      <td>0.0</td>\n",
       "      <td>0.0</td>\n",
       "      <td>0.0</td>\n",
       "      <td>0.0</td>\n",
       "      <td>0.0</td>\n",
       "      <td>0.0</td>\n",
       "      <td>0.0</td>\n",
       "    </tr>\n",
       "    <tr>\n",
       "      <th>1</th>\n",
       "      <td>CheXpert-v1.0-small/valid/patient64542/study1/...</td>\n",
       "      <td>Male</td>\n",
       "      <td>70</td>\n",
       "      <td>Frontal</td>\n",
       "      <td>0.0</td>\n",
       "      <td>0.0</td>\n",
       "      <td>0.0</td>\n",
       "      <td>0.0</td>\n",
       "      <td>0.0</td>\n",
       "      <td>0.0</td>\n",
       "      <td>0.0</td>\n",
       "      <td>0.0</td>\n",
       "      <td>0.0</td>\n",
       "      <td>0.0</td>\n",
       "      <td>0.0</td>\n",
       "      <td>0.0</td>\n",
       "      <td>0.0</td>\n",
       "      <td>1.0</td>\n",
       "    </tr>\n",
       "    <tr>\n",
       "      <th>3</th>\n",
       "      <td>CheXpert-v1.0-small/valid/patient64543/study1/...</td>\n",
       "      <td>Male</td>\n",
       "      <td>85</td>\n",
       "      <td>Frontal</td>\n",
       "      <td>0.0</td>\n",
       "      <td>1.0</td>\n",
       "      <td>0.0</td>\n",
       "      <td>1.0</td>\n",
       "      <td>0.0</td>\n",
       "      <td>1.0</td>\n",
       "      <td>0.0</td>\n",
       "      <td>0.0</td>\n",
       "      <td>0.0</td>\n",
       "      <td>0.0</td>\n",
       "      <td>0.0</td>\n",
       "      <td>0.0</td>\n",
       "      <td>0.0</td>\n",
       "      <td>0.0</td>\n",
       "    </tr>\n",
       "    <tr>\n",
       "      <th>4</th>\n",
       "      <td>CheXpert-v1.0-small/valid/patient64544/study1/...</td>\n",
       "      <td>Female</td>\n",
       "      <td>42</td>\n",
       "      <td>Frontal</td>\n",
       "      <td>1.0</td>\n",
       "      <td>0.0</td>\n",
       "      <td>0.0</td>\n",
       "      <td>0.0</td>\n",
       "      <td>0.0</td>\n",
       "      <td>0.0</td>\n",
       "      <td>0.0</td>\n",
       "      <td>0.0</td>\n",
       "      <td>0.0</td>\n",
       "      <td>0.0</td>\n",
       "      <td>0.0</td>\n",
       "      <td>0.0</td>\n",
       "      <td>0.0</td>\n",
       "      <td>0.0</td>\n",
       "    </tr>\n",
       "    <tr>\n",
       "      <th>5</th>\n",
       "      <td>CheXpert-v1.0-small/valid/patient64545/study1/...</td>\n",
       "      <td>Female</td>\n",
       "      <td>55</td>\n",
       "      <td>Frontal</td>\n",
       "      <td>0.0</td>\n",
       "      <td>1.0</td>\n",
       "      <td>0.0</td>\n",
       "      <td>1.0</td>\n",
       "      <td>0.0</td>\n",
       "      <td>0.0</td>\n",
       "      <td>0.0</td>\n",
       "      <td>0.0</td>\n",
       "      <td>1.0</td>\n",
       "      <td>0.0</td>\n",
       "      <td>1.0</td>\n",
       "      <td>0.0</td>\n",
       "      <td>0.0</td>\n",
       "      <td>0.0</td>\n",
       "    </tr>\n",
       "  </tbody>\n",
       "</table>\n",
       "</div>"
      ],
      "text/plain": [
       "                                                Path     Sex  Age  \\\n",
       "0  CheXpert-v1.0-small/valid/patient64541/study1/...    Male   73   \n",
       "1  CheXpert-v1.0-small/valid/patient64542/study1/...    Male   70   \n",
       "3  CheXpert-v1.0-small/valid/patient64543/study1/...    Male   85   \n",
       "4  CheXpert-v1.0-small/valid/patient64544/study1/...  Female   42   \n",
       "5  CheXpert-v1.0-small/valid/patient64545/study1/...  Female   55   \n",
       "\n",
       "  Frontal/Lateral  No Finding  Enlarged Cardiomediastinum  Cardiomegaly  \\\n",
       "0         Frontal         0.0                         1.0           1.0   \n",
       "1         Frontal         0.0                         0.0           0.0   \n",
       "3         Frontal         0.0                         1.0           0.0   \n",
       "4         Frontal         1.0                         0.0           0.0   \n",
       "5         Frontal         0.0                         1.0           0.0   \n",
       "\n",
       "   Lung Opacity  Lung Lesion  Edema  Consolidation  Pneumonia  Atelectasis  \\\n",
       "0           1.0          0.0    0.0            0.0        0.0          0.0   \n",
       "1           0.0          0.0    0.0            0.0        0.0          0.0   \n",
       "3           1.0          0.0    1.0            0.0        0.0          0.0   \n",
       "4           0.0          0.0    0.0            0.0        0.0          0.0   \n",
       "5           1.0          0.0    0.0            0.0        0.0          1.0   \n",
       "\n",
       "   Pneumothorax  Pleural Effusion  Pleural Other  Fracture  Support Devices  \n",
       "0           0.0               0.0            0.0       0.0              0.0  \n",
       "1           0.0               0.0            0.0       0.0              1.0  \n",
       "3           0.0               0.0            0.0       0.0              0.0  \n",
       "4           0.0               0.0            0.0       0.0              0.0  \n",
       "5           0.0               1.0            0.0       0.0              0.0  "
      ]
     },
     "execution_count": 24,
     "metadata": {},
     "output_type": "execute_result"
    }
   ],
   "source": [
    "sub_valid.head()"
   ]
  },
  {
   "cell_type": "code",
   "execution_count": 25,
   "metadata": {},
   "outputs": [
    {
     "name": "stdout",
     "output_type": "stream",
     "text": [
      "y = [[ 7.  7.  7. ... 11. 11. 11.]\n",
      " [ 0.  0.  0. ...  0.  0.  0.]\n",
      " [46. 51. 37. ... 44. 35. 29.]\n",
      " ...\n",
      " [28. 28. 28. ...  2.  1.  2.]\n",
      " [14. 10. 10. ...  6. 12. 11.]\n",
      " [ 6.  6.  6. ... 22. 19. 21.]]\n"
     ]
    },
    {
     "data": {
      "image/png": "[encoded data removed]",
      "text/plain": [
       "<Figure size 432x288 with 1 Axes>"
      ]
     },
     "metadata": {
      "needs_background": "light"
     },
     "output_type": "display_data"
    }
   ],
   "source": [
    "\n",
    "# Example of a picture\n",
    "index = 0\n",
    "plt.imshow(X_train[index])\n",
    "print (\"y = \" + str(np.squeeze(X_test[:, index])))"
   ]
  },
  {
   "cell_type": "code",
   "execution_count": 26,
   "metadata": {},
   "outputs": [
    {
     "name": "stdout",
     "output_type": "stream",
     "text": [
      "number of training examples = 191\n",
      "number of test examples = 202\n",
      "X_train shape: (191, 224, 224, 1)\n",
      "Y_train shape: (191, 14)\n",
      "X_test shape: (202, 224, 224, 1)\n",
      "Y_test shape: (202, 14)\n"
     ]
    }
   ],
   "source": [
    "# X_train = X_train_orig/255.\n",
    "# X_test = X_test_orig/255.\n",
    "# Y_train = convert_to_one_hot(Y_train_orig, 6).T\n",
    "# Y_test = convert_to_one_hot(Y_test_orig, 6).T\n",
    "X_train = np.reshape(X_train , (X_train.shape[0],224,224,1))\n",
    "X_test = np.reshape(X_test , (X_test.shape[0],224,224,1))\n",
    "print (\"number of training examples = \" + str(X_train.shape[0]))\n",
    "print (\"number of test examples = \" + str(X_test.shape[0]))\n",
    "print (\"X_train shape: \" + str(X_train.shape))\n",
    "print (\"Y_train shape: \" + str(Y_train.shape))\n",
    "print (\"X_test shape: \" + str(X_test.shape))\n",
    "print (\"Y_test shape: \" + str(Y_test.shape))\n",
    "conv_layers = {}"
   ]
  },
  {
   "cell_type": "code",
   "execution_count": 27,
   "metadata": {},
   "outputs": [],
   "source": [
    "Y_test = np.array(Y_test)\n",
    "Y_train = np.array(Y_train)\n"
   ]
  },
  {
   "cell_type": "code",
   "execution_count": 28,
   "metadata": {},
   "outputs": [],
   "source": [
    "# Building the Model"
   ]
  },
  {
   "cell_type": "code",
   "execution_count": 29,
   "metadata": {},
   "outputs": [],
   "source": [
    "# Create Placeholders\n",
    "\n",
    "def create_placeholders(n_H0, n_W0, n_C0, n_y):\n",
    "    \"\"\"\n",
    "    Creates the placeholders for the tensorflow session.\n",
    "    \n",
    "    Arguments:\n",
    "    n_H0 -- scalar, height of an input image\n",
    "    n_W0 -- scalar, width of an input image\n",
    "    n_C0 -- scalar, number of channels of the input\n",
    "    n_y -- scalar, number of classes\n",
    "        \n",
    "    Returns:\n",
    "    X -- placeholder for the data input, of shape [None, n_H0, n_W0, n_C0] and dtype \"float\"\n",
    "    Y -- placeholder for the input labels, of shape [None, n_y] and dtype \"float\"\n",
    "    \"\"\"\n",
    "\n",
    "    X = tf.placeholder(tf.float32, shape=(None, n_H0, n_W0, n_C0), name='X')\n",
    "    Y = tf.placeholder(tf.float32, shape=(None, n_y), name='Y') \n",
    "    \n",
    "    return X, Y"
   ]
  },
  {
   "cell_type": "code",
   "execution_count": 30,
   "metadata": {},
   "outputs": [
    {
     "name": "stdout",
     "output_type": "stream",
     "text": [
      "X = Tensor(\"X:0\", shape=(?, 224, 224, 1), dtype=float32)\n",
      "Y = Tensor(\"Y:0\", shape=(?, 14), dtype=float32)\n"
     ]
    }
   ],
   "source": [
    "X, Y = create_placeholders(224, 224, 1, 14)\n",
    "print (\"X = \" + str(X))\n",
    "print (\"Y = \" + str(Y))"
   ]
  },
  {
   "cell_type": "code",
   "execution_count": 31,
   "metadata": {},
   "outputs": [],
   "source": [
    "# Initilize Parameters"
   ]
  },
  {
   "cell_type": "code",
   "execution_count": 32,
   "metadata": {},
   "outputs": [],
   "source": [
    "def initialize_parameters():\n",
    "    tf.set_random_seed(1)                   \n",
    "\n",
    "    W1 = tf.get_variable(\"W1\", shape = (4,4,1,8), initializer = tf.contrib.layers.xavier_initializer(seed = 0))\n",
    "    W2 = tf.get_variable(\"W2\", shape = (2,2,8,16), initializer = tf.contrib.layers.xavier_initializer(seed = 0))\n",
    "    parameters = {\"W1\": W1,\n",
    "                  \"W2\": W2}\n",
    "    \n",
    "    return parameters"
   ]
  },
  {
   "cell_type": "code",
   "execution_count": 33,
   "metadata": {},
   "outputs": [],
   "source": [
    "#Forward Prop\n"
   ]
  },
  {
   "cell_type": "code",
   "execution_count": 34,
   "metadata": {},
   "outputs": [],
   "source": [
    "\n",
    "def forward_propagation(X, parameters):\n",
    "    # Retrieve the parameters from the dictionary \"parameters\" \n",
    "    W1 = parameters['W1']\n",
    "    W2 = parameters['W2']\n",
    "    \n",
    "    # CONV2D: stride of 1, padding 'SAME'\n",
    "    Z1 = tf.nn.conv2d(X, W1, strides=[1, 1, 1, 1], padding='SAME')\n",
    "    # RELU\n",
    "    A1 = tf.nn.relu(Z1)\n",
    "    # MAXPOOL: window 8x8, sride 8, padding 'SAME'\n",
    "    P1 = tf.nn.max_pool(A1, ksize=[1, 8, 8, 1], strides=[1, 8, 8, 1], padding='SAME')\n",
    "    # CONV2D: filters W2, stride 1, padding 'SAME'\n",
    "    Z2 = tf.nn.conv2d(P1, W2, strides=[1, 1, 1, 1], padding='SAME')\n",
    "    # RELU\n",
    "    A2 = tf.nn.relu(Z2)\n",
    "    # MAXPOOL: window 4x4, stride 4, padding 'SAME'\n",
    "    P2 = tf.nn.max_pool(A2, ksize=[1, 4, 4, 1], strides=[1, 4, 4, 1], padding='SAME')\n",
    "    # FLATTEN\n",
    "    P2 = tf.contrib.layers.flatten(P2)\n",
    "    # FULLY-CONNECTED without non-linear activation function (not not call softmax).\n",
    "    # 6 neurons in output layer. Hint: one of the arguments should be \"activation_fn=None\" \n",
    "    Z3 = tf.contrib.layers.fully_connected(P2, 14, activation_fn=tf.nn.sigmoid)\n",
    "    return Z3"
   ]
  },
  {
   "cell_type": "code",
   "execution_count": 35,
   "metadata": {},
   "outputs": [
    {
     "name": "stdout",
     "output_type": "stream",
     "text": [
      "\n",
      "WARNING: The TensorFlow contrib module will not be included in TensorFlow 2.0.\n",
      "For more information, please see:\n",
      "  * https://github.com/tensorflow/community/blob/master/rfcs/20180907-contrib-sunset.md\n",
      "  * https://github.com/tensorflow/addons\n",
      "If you depend on functionality not listed there, please file an issue.\n",
      "\n",
      "WARNING:tensorflow:From /Users/rishabhsirdesai/.local/lib/python2.7/site-packages/tensorflow/python/framework/op_def_library.py:263: colocate_with (from tensorflow.python.framework.ops) is deprecated and will be removed in a future version.\n",
      "Instructions for updating:\n",
      "Colocations handled automatically by placer.\n",
      "WARNING:tensorflow:From /Users/rishabhsirdesai/.local/lib/python2.7/site-packages/tensorflow/contrib/layers/python/layers/layers.py:1624: flatten (from tensorflow.python.layers.core) is deprecated and will be removed in a future version.\n",
      "Instructions for updating:\n",
      "Use keras.layers.flatten instead.\n",
      "Z3 = [[0.13331395 0.3292729  0.02207786 0.46242708 0.38039407 0.91147065\n",
      "  0.6036091  0.38164413 0.2448237  0.65223134 0.31336176 0.7779126\n",
      "  0.2712241  0.1931957 ]\n",
      " [0.16013971 0.33575034 0.02703723 0.49077454 0.43726438 0.9173784\n",
      "  0.66054696 0.3676662  0.26324236 0.6583149  0.31874067 0.8055221\n",
      "  0.31248695 0.18074109]]\n"
     ]
    }
   ],
   "source": [
    "tf.reset_default_graph()\n",
    "\n",
    "with tf.Session() as sess:\n",
    "    np.random.seed(1)\n",
    "    X, Y = create_placeholders(224, 224, 1, 14)\n",
    "    parameters = initialize_parameters()\n",
    "    Z3 = forward_propagation(X, parameters)\n",
    "    init = tf.global_variables_initializer()\n",
    "    sess.run(init)\n",
    "    a = sess.run(Z3, {X: np.random.randn(2,224,224,1), Y: np.random.randn(2,14)})\n",
    "    print(\"Z3 = \" + str(a))"
   ]
  },
  {
   "cell_type": "code",
   "execution_count": 36,
   "metadata": {},
   "outputs": [],
   "source": [
    "# Compute Cost"
   ]
  },
  {
   "cell_type": "code",
   "execution_count": 60,
   "metadata": {},
   "outputs": [],
   "source": [
    "\n",
    "def compute_cost(Z3, Y):\n",
    "    cost = tf.reduce_mean(tf.nn.sigmoid_cross_entropy_with_logits(logits=Z3, labels=Y))\n",
    "\n",
    "    return cost"
   ]
  },
  {
   "cell_type": "code",
   "execution_count": 61,
   "metadata": {},
   "outputs": [
    {
     "name": "stdout",
     "output_type": "stream",
     "text": [
      "cost = 0.8973307\n"
     ]
    }
   ],
   "source": [
    "tf.reset_default_graph()\n",
    "\n",
    "with tf.Session() as sess:\n",
    "    np.random.seed(1)\n",
    "    X, Y = create_placeholders(224,224, 1, 14)\n",
    "    parameters = initialize_parameters()\n",
    "    Z3 = forward_propagation(X, parameters)\n",
    "    cost = compute_cost(Z3, Y)\n",
    "    init = tf.global_variables_initializer()\n",
    "    sess.run(init)\n",
    "    a = sess.run(cost, {X: np.random.randn(4,224,224,1), Y: np.random.randn(4,14)})\n",
    "    print(\"cost = \" + str(a))"
   ]
  },
  {
   "cell_type": "code",
   "execution_count": null,
   "metadata": {},
   "outputs": [],
   "source": []
  },
  {
   "cell_type": "code",
   "execution_count": 62,
   "metadata": {},
   "outputs": [],
   "source": [
    "def random_mini_batches(X, Y, mini_batch_size = 64, seed = 0):\n",
    "\n",
    "    \n",
    "    m = X.shape[0]                  # number of training examples\n",
    "    mini_batches = []\n",
    "    np.random.seed(seed)\n",
    "    \n",
    "    # Step 1: Shuffle (X, Y)\n",
    "    permutation = list(np.random.permutation(m))\n",
    "    shuffled_X = X[permutation,:,:,:]\n",
    "    shuffled_Y = Y[permutation,:]\n",
    "\n",
    "    # Step 2: Partition (shuffled_X, shuffled_Y). Minus the end case.\n",
    "    num_complete_minibatches = int(math.floor(m/mini_batch_size)) # number of mini batches of size mini_batch_size in your partitionning\n",
    "    for k in range(0, num_complete_minibatches):\n",
    "        mini_batch_X = shuffled_X[k * mini_batch_size : k * mini_batch_size + mini_batch_size,:,:,:]\n",
    "        mini_batch_Y = shuffled_Y[k * mini_batch_size : k * mini_batch_size + mini_batch_size,:]\n",
    "        mini_batch = (mini_batch_X, mini_batch_Y)\n",
    "        mini_batches.append(mini_batch)\n",
    "    \n",
    "    # Handling the end case (last mini-batch < mini_batch_size)\n",
    "    if m % mini_batch_size != 0:\n",
    "        mini_batch_X = shuffled_X[num_complete_minibatches * mini_batch_size : m,:,:,:]\n",
    "        mini_batch_Y = shuffled_Y[num_complete_minibatches * mini_batch_size : m,:]\n",
    "        mini_batch = (mini_batch_X, mini_batch_Y)\n",
    "        mini_batches.append(mini_batch)\n",
    "    \n",
    "    return mini_batches"
   ]
  },
  {
   "cell_type": "code",
   "execution_count": 63,
   "metadata": {},
   "outputs": [
    {
     "data": {
      "text/plain": [
       "(191, 224, 224, 1)"
      ]
     },
     "execution_count": 63,
     "metadata": {},
     "output_type": "execute_result"
    }
   ],
   "source": [
    "X_train.shape"
   ]
  },
  {
   "cell_type": "code",
   "execution_count": 64,
   "metadata": {},
   "outputs": [
    {
     "data": {
      "text/plain": [
       "(191, 14)"
      ]
     },
     "execution_count": 64,
     "metadata": {},
     "output_type": "execute_result"
    }
   ],
   "source": [
    "Y_train.shape"
   ]
  },
  {
   "cell_type": "code",
   "execution_count": 65,
   "metadata": {},
   "outputs": [],
   "source": [
    "# GRADED FUNCTION: model\n",
    "\n",
    "def model(X_train, Y_train, X_test, Y_test, learning_rate = 0.000009,\n",
    "          num_epochs = 100, minibatch_size = 64, print_cost = True):\n",
    "    \n",
    "    ops.reset_default_graph()                         # to be able to rerun the model without overwriting tf variables\n",
    "    tf.set_random_seed(1)                             # to keep results consistent (tensorflow seed)\n",
    "    seed = 3                                          # to keep results consistent (numpy seed)\n",
    "    (m, n_H0, n_W0, n_C0) = X_train.shape\n",
    "    n_y = Y_train.shape[1]                            \n",
    "    costs = []                                        # To keep track of the cost\n",
    "    \n",
    "    # Create Placeholders of the correct shape\n",
    "    X, Y = create_placeholders(n_H0, n_W0, n_C0, n_y)\n",
    "\n",
    "    # Initialize parameters\n",
    "    parameters = initialize_parameters()\n",
    "    \n",
    "    # Forward propagation: Build the forward propagation in the tensorflow graph\n",
    "    Z3 = forward_propagation(X, parameters)\n",
    "    \n",
    "    # Cost function: Add cost function to tensorflow graph\n",
    "    cost = compute_cost(Z3, Y)\n",
    "    \n",
    "    # Backpropagation: Define the tensorflow optimizer. Use an AdamOptimizer that minimizes the cost.\n",
    "    optimizer = tf.train.AdamOptimizer(learning_rate).minimize(cost)\n",
    "    \n",
    "    # Initialize all the variables globally\n",
    "    init = tf.global_variables_initializer()\n",
    "     \n",
    "    # Start the session to compute the tensorflow graph\n",
    "    with tf.Session() as sess:\n",
    "        \n",
    "        # Run the initialization\n",
    "        sess.run(init)\n",
    "        \n",
    "        # Do the training loop\n",
    "        for epoch in range(num_epochs):\n",
    "\n",
    "            minibatch_cost = 0.\n",
    "            num_minibatches = int(m / minibatch_size) # number of minibatches of size minibatch_size in the train set\n",
    "            seed = seed + 1\n",
    "            minibatches = random_mini_batches(X_train, Y_train, minibatch_size, seed)\n",
    "\n",
    "            for minibatch in minibatches:\n",
    "\n",
    "                # Select a minibatch\n",
    "                (minibatch_X, minibatch_Y) = minibatch\n",
    "                _ , temp_cost = sess.run([optimizer, cost], {X: minibatch_X, Y: minibatch_Y})\n",
    "                \n",
    "                minibatch_cost += temp_cost / num_minibatches\n",
    "                \n",
    "\n",
    "            # Print the cost every epoch\n",
    "            if print_cost == True and epoch % 5 == 0:\n",
    "                print (\"Cost after epoch %i: %f\" % (epoch, minibatch_cost))\n",
    "            if print_cost == True and epoch % 1 == 0:\n",
    "                costs.append(minibatch_cost)\n",
    "        \n",
    "        \n",
    "        # plot the cost\n",
    "        plt.plot(np.squeeze(costs))\n",
    "        plt.ylabel('cost')\n",
    "        plt.xlabel('iterations (per tens)')\n",
    "        plt.title(\"Learning rate =\" + str(learning_rate))\n",
    "        plt.show()\n",
    "\n",
    "        # Calculate the correct predictions\n",
    "        predict_op = tf.argmax(Z3, 1)\n",
    "        correct_prediction = tf.equal(predict_op, tf.argmax(Y, 1))\n",
    "        \n",
    "        # Calculate accuracy on the test set\n",
    "        accuracy = tf.reduce_mean(tf.cast(correct_prediction, \"float\"))\n",
    "        print(accuracy)\n",
    "        train_accuracy = accuracy.eval({X: X_train, Y: Y_train})\n",
    "        test_accuracy = accuracy.eval({X: X_test, Y: Y_test})\n",
    "        print(\"Train Accuracy:\", train_accuracy)\n",
    "        print(\"Test Accuracy:\", test_accuracy)\n",
    "                \n",
    "        return train_accuracy, test_accuracy, parameters"
   ]
  },
  {
   "cell_type": "code",
   "execution_count": 66,
   "metadata": {
    "scrolled": true
   },
   "outputs": [
    {
     "name": "stdout",
     "output_type": "stream",
     "text": [
      "Cost after epoch 0: 1.208789\n",
      "Cost after epoch 5: 1.204929\n",
      "Cost after epoch 10: 1.200984\n",
      "Cost after epoch 15: 1.198433\n",
      "Cost after epoch 20: 1.195158\n",
      "Cost after epoch 25: 1.187991\n",
      "Cost after epoch 30: 1.179098\n",
      "Cost after epoch 35: 1.170496\n",
      "Cost after epoch 40: 1.158108\n",
      "Cost after epoch 45: 1.151319\n",
      "Cost after epoch 50: 1.145499\n",
      "Cost after epoch 55: 1.140524\n",
      "Cost after epoch 60: 1.137230\n",
      "Cost after epoch 65: 1.136398\n",
      "Cost after epoch 70: 1.135786\n",
      "Cost after epoch 75: 1.134790\n",
      "Cost after epoch 80: 1.133752\n",
      "Cost after epoch 85: 1.133338\n",
      "Cost after epoch 90: 1.133218\n",
      "Cost after epoch 95: 1.133138\n"
     ]
    },
    {
     "data": {
      "image/png": "[encoded data removed]",
      "text/plain": [
       "<Figure size 432x288 with 1 Axes>"
      ]
     },
     "metadata": {
      "needs_background": "light"
     },
     "output_type": "display_data"
    },
    {
     "name": "stdout",
     "output_type": "stream",
     "text": [
      "Tensor(\"Mean_1:0\", shape=(), dtype=float32)\n",
      "('Train Accuracy:', 0.036649216)\n",
      "('Test Accuracy:', 0.004950495)\n"
     ]
    }
   ],
   "source": [
    "_, _, parameters = model(X_train, Y_train, X_test, Y_test)"
   ]
  },
  {
   "cell_type": "code",
   "execution_count": null,
   "metadata": {},
   "outputs": [],
   "source": []
  }
 ],
 "metadata": {
  "kernelspec": {
   "display_name": "Python 2",
   "language": "python",
   "name": "python2"
  },
  "language_info": {
   "codemirror_mode": {
    "name": "ipython",
    "version": 2
   },
   "file_extension": ".py",
   "mimetype": "text/x-python",
   "name": "python",
   "nbconvert_exporter": "python",
   "pygments_lexer": "ipython2",
   "version": "2.7.16"
  }
 },
 "nbformat": 4,
 "nbformat_minor": 2
}
